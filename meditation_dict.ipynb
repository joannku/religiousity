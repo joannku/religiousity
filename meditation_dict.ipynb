{
 "cells": [
  {
   "cell_type": "code",
   "execution_count": 1,
   "metadata": {},
   "outputs": [],
   "source": [
    "import pandas as pd\n",
    "import sys\n",
    "import os\n",
    "from transformers import pipeline\n",
    "from pandas.errors import EmptyDataError\n",
    "import datetime as datetime\n",
    "import json\n",
    "import torch\n",
    "import tensorflow\n",
    "import statsmodels.formula.api as smf\n",
    "\n",
    "os.chdir('/Users/joannakuc/Git/webscraping_meditation')\n",
    "print(os.getcwd())  # prints the current working directory"
   ]
  },
  {
   "cell_type": "code",
   "execution_count": 2,
   "metadata": {},
   "outputs": [
    {
     "name": "stdout",
     "output_type": "stream",
     "text": [
      "(7683, 11)\n"
     ]
    }
   ],
   "source": [
    "# First load all of the merged trip reports\n",
    "df = pd.read_csv('processed/bartmnli_final.csv')\n",
    "df.head()\n",
    "\n",
    "# Drop rows with NaN values in the 'bartmnli_happy' column\n",
    "print(df.shape)"
   ]
  },
  {
   "cell_type": "code",
   "execution_count": 3,
   "metadata": {},
   "outputs": [],
   "source": [
    "# Create a list of meditation related terms\n",
    "meditation_dict = ['meditation', 'meditate', 'meditated']"
   ]
  },
  {
   "cell_type": "code",
   "execution_count": 4,
   "metadata": {},
   "outputs": [],
   "source": [
    "# Write a function that will count how many times a term appears in a text\n",
    "def count_terms(text, terms):\n",
    "    count = 0\n",
    "    # Check if string\n",
    "    if isinstance(text, str):\n",
    "        text = text.lower()\n",
    "        for term in terms:\n",
    "            count += text.lower().count(term)\n",
    "    return count\n",
    "\n",
    "# Apply the function to the text column\n",
    "df['MeditationCount'] = df['Report'].apply(lambda x: count_terms(x, meditation_dict))"
   ]
  },
  {
   "cell_type": "code",
   "execution_count": 5,
   "metadata": {},
   "outputs": [
    {
     "data": {
      "text/html": [
       "<div>\n",
       "<style scoped>\n",
       "    .dataframe tbody tr th:only-of-type {\n",
       "        vertical-align: middle;\n",
       "    }\n",
       "\n",
       "    .dataframe tbody tr th {\n",
       "        vertical-align: top;\n",
       "    }\n",
       "\n",
       "    .dataframe thead th {\n",
       "        text-align: right;\n",
       "    }\n",
       "</style>\n",
       "<table border=\"1\" class=\"dataframe\">\n",
       "  <thead>\n",
       "    <tr style=\"text-align: right;\">\n",
       "      <th></th>\n",
       "      <th>Title</th>\n",
       "      <th>Category</th>\n",
       "      <th>Report</th>\n",
       "      <th>Source</th>\n",
       "      <th>UniqueID</th>\n",
       "      <th>bartmnli_happy</th>\n",
       "      <th>bartmnli_calm</th>\n",
       "      <th>bartmnli_gloomy</th>\n",
       "      <th>bartmnli_angry</th>\n",
       "      <th>bartmnli_inferred_valence</th>\n",
       "      <th>bartmnli_inferred_arousal</th>\n",
       "      <th>MeditationCount</th>\n",
       "    </tr>\n",
       "  </thead>\n",
       "  <tbody>\n",
       "    <tr>\n",
       "      <th>0</th>\n",
       "      <td>Spacey.</td>\n",
       "      <td>Microdosing</td>\n",
       "      <td>I've always been fairly sensitive to drugs of ...</td>\n",
       "      <td>shroomery</td>\n",
       "      <td>1-Wild-brash-tense-keen-soft-plate</td>\n",
       "      <td>0.533623</td>\n",
       "      <td>0.205692</td>\n",
       "      <td>0.159543</td>\n",
       "      <td>0.101142</td>\n",
       "      <td>0.478629</td>\n",
       "      <td>0.269529</td>\n",
       "      <td>0</td>\n",
       "    </tr>\n",
       "    <tr>\n",
       "      <th>1</th>\n",
       "      <td>Frozen Bridgesii</td>\n",
       "      <td>Microdosing</td>\n",
       "      <td>I have frozen some cuttings, and having had go...</td>\n",
       "      <td>shroomery</td>\n",
       "      <td>1-Nine-obese-elfin-tidy-ugly-home</td>\n",
       "      <td>0.865566</td>\n",
       "      <td>0.082510</td>\n",
       "      <td>0.025943</td>\n",
       "      <td>0.025980</td>\n",
       "      <td>0.896153</td>\n",
       "      <td>0.783093</td>\n",
       "      <td>0</td>\n",
       "    </tr>\n",
       "    <tr>\n",
       "      <th>2</th>\n",
       "      <td>Golden Teacher Not Potent</td>\n",
       "      <td>Microdosing</td>\n",
       "      <td>I just harvested Golden Teache - about a pound...</td>\n",
       "      <td>shroomery</td>\n",
       "      <td>1-Lowly-tangy-proud-godly-tough-level</td>\n",
       "      <td>0.205946</td>\n",
       "      <td>0.342545</td>\n",
       "      <td>0.320734</td>\n",
       "      <td>0.130775</td>\n",
       "      <td>0.096984</td>\n",
       "      <td>-0.326558</td>\n",
       "      <td>0</td>\n",
       "    </tr>\n",
       "    <tr>\n",
       "      <th>3</th>\n",
       "      <td>MD Journal</td>\n",
       "      <td>Microdosing</td>\n",
       "      <td>Micro-dosing JournalTuesday, May 2, 2017: firs...</td>\n",
       "      <td>shroomery</td>\n",
       "      <td>1-Wrong-proud-vague-royal-great-skin</td>\n",
       "      <td>0.293767</td>\n",
       "      <td>0.353191</td>\n",
       "      <td>0.217403</td>\n",
       "      <td>0.135639</td>\n",
       "      <td>0.293916</td>\n",
       "      <td>-0.141188</td>\n",
       "      <td>17</td>\n",
       "    </tr>\n",
       "    <tr>\n",
       "      <th>4</th>\n",
       "      <td>Amanita muscaria alaska</td>\n",
       "      <td>Microdosing</td>\n",
       "      <td>Okay, I wanted to give my firsthand experience...</td>\n",
       "      <td>shroomery</td>\n",
       "      <td>1-Mere-drunk-lowly-nine-half-great</td>\n",
       "      <td>0.369472</td>\n",
       "      <td>0.597715</td>\n",
       "      <td>0.024566</td>\n",
       "      <td>0.008247</td>\n",
       "      <td>0.934374</td>\n",
       "      <td>-0.244563</td>\n",
       "      <td>0</td>\n",
       "    </tr>\n",
       "    <tr>\n",
       "      <th>...</th>\n",
       "      <td>...</td>\n",
       "      <td>...</td>\n",
       "      <td>...</td>\n",
       "      <td>...</td>\n",
       "      <td>...</td>\n",
       "      <td>...</td>\n",
       "      <td>...</td>\n",
       "      <td>...</td>\n",
       "      <td>...</td>\n",
       "      <td>...</td>\n",
       "      <td>...</td>\n",
       "      <td>...</td>\n",
       "    </tr>\n",
       "    <tr>\n",
       "      <th>7678</th>\n",
       "      <td>acid tripping at a mile high</td>\n",
       "      <td>Other Substances</td>\n",
       "      <td>Yesterday I took a great leap in my mind: I to...</td>\n",
       "      <td>shroomery</td>\n",
       "      <td>1-Tame-fuzzy-last-hot-flat-wheel</td>\n",
       "      <td>0.295255</td>\n",
       "      <td>0.418045</td>\n",
       "      <td>0.165321</td>\n",
       "      <td>0.121378</td>\n",
       "      <td>0.426601</td>\n",
       "      <td>-0.166733</td>\n",
       "      <td>0</td>\n",
       "    </tr>\n",
       "    <tr>\n",
       "      <th>7679</th>\n",
       "      <td>Just Weed</td>\n",
       "      <td>Other Substances</td>\n",
       "      <td>I dont know if you can consider this a trip be...</td>\n",
       "      <td>shroomery</td>\n",
       "      <td>1-Cheap-mushy-roomy-empty-cheap-visit</td>\n",
       "      <td>0.147570</td>\n",
       "      <td>0.135277</td>\n",
       "      <td>0.596893</td>\n",
       "      <td>0.120259</td>\n",
       "      <td>-0.434305</td>\n",
       "      <td>-0.464341</td>\n",
       "      <td>0</td>\n",
       "    </tr>\n",
       "    <tr>\n",
       "      <th>7680</th>\n",
       "      <td>Yowza!</td>\n",
       "      <td>Other Substances</td>\n",
       "      <td>Lets get started!I finally managed to get my m...</td>\n",
       "      <td>shroomery</td>\n",
       "      <td>1-Elite-cute-kind-fuzzy-nosy-date</td>\n",
       "      <td>0.348761</td>\n",
       "      <td>0.303263</td>\n",
       "      <td>0.238150</td>\n",
       "      <td>0.109826</td>\n",
       "      <td>0.304048</td>\n",
       "      <td>-0.082826</td>\n",
       "      <td>0</td>\n",
       "    </tr>\n",
       "    <tr>\n",
       "      <th>7681</th>\n",
       "      <td>Acid trip on Longs Peak</td>\n",
       "      <td>Other Substances</td>\n",
       "      <td>LSA trip on longs peak took a good amount of L...</td>\n",
       "      <td>shroomery</td>\n",
       "      <td>1-Odd-keen-new-meek-green-crew</td>\n",
       "      <td>0.725440</td>\n",
       "      <td>0.150889</td>\n",
       "      <td>0.061685</td>\n",
       "      <td>0.061986</td>\n",
       "      <td>0.752659</td>\n",
       "      <td>0.574852</td>\n",
       "      <td>0</td>\n",
       "    </tr>\n",
       "    <tr>\n",
       "      <th>7682</th>\n",
       "      <td>First time experiencing Salvia</td>\n",
       "      <td>Other Substances</td>\n",
       "      <td>I've been wanting to try Salvia for quite some...</td>\n",
       "      <td>shroomery</td>\n",
       "      <td>1-Raspy-past-far-goofy-rare-make</td>\n",
       "      <td>0.276545</td>\n",
       "      <td>0.459063</td>\n",
       "      <td>0.200498</td>\n",
       "      <td>0.063895</td>\n",
       "      <td>0.471216</td>\n",
       "      <td>-0.319121</td>\n",
       "      <td>0</td>\n",
       "    </tr>\n",
       "  </tbody>\n",
       "</table>\n",
       "<p>7683 rows × 12 columns</p>\n",
       "</div>"
      ],
      "text/plain": [
       "                               Title          Category  \\\n",
       "0                            Spacey.       Microdosing   \n",
       "1                   Frozen Bridgesii       Microdosing   \n",
       "2          Golden Teacher Not Potent       Microdosing   \n",
       "3                         MD Journal       Microdosing   \n",
       "4            Amanita muscaria alaska       Microdosing   \n",
       "...                              ...               ...   \n",
       "7678    acid tripping at a mile high  Other Substances   \n",
       "7679                       Just Weed  Other Substances   \n",
       "7680                          Yowza!  Other Substances   \n",
       "7681         Acid trip on Longs Peak  Other Substances   \n",
       "7682  First time experiencing Salvia  Other Substances   \n",
       "\n",
       "                                                 Report     Source  \\\n",
       "0     I've always been fairly sensitive to drugs of ...  shroomery   \n",
       "1     I have frozen some cuttings, and having had go...  shroomery   \n",
       "2     I just harvested Golden Teache - about a pound...  shroomery   \n",
       "3     Micro-dosing JournalTuesday, May 2, 2017: firs...  shroomery   \n",
       "4     Okay, I wanted to give my firsthand experience...  shroomery   \n",
       "...                                                 ...        ...   \n",
       "7678  Yesterday I took a great leap in my mind: I to...  shroomery   \n",
       "7679  I dont know if you can consider this a trip be...  shroomery   \n",
       "7680  Lets get started!I finally managed to get my m...  shroomery   \n",
       "7681  LSA trip on longs peak took a good amount of L...  shroomery   \n",
       "7682  I've been wanting to try Salvia for quite some...  shroomery   \n",
       "\n",
       "                                   UniqueID  bartmnli_happy  bartmnli_calm  \\\n",
       "0        1-Wild-brash-tense-keen-soft-plate        0.533623       0.205692   \n",
       "1         1-Nine-obese-elfin-tidy-ugly-home        0.865566       0.082510   \n",
       "2     1-Lowly-tangy-proud-godly-tough-level        0.205946       0.342545   \n",
       "3      1-Wrong-proud-vague-royal-great-skin        0.293767       0.353191   \n",
       "4        1-Mere-drunk-lowly-nine-half-great        0.369472       0.597715   \n",
       "...                                     ...             ...            ...   \n",
       "7678       1-Tame-fuzzy-last-hot-flat-wheel        0.295255       0.418045   \n",
       "7679  1-Cheap-mushy-roomy-empty-cheap-visit        0.147570       0.135277   \n",
       "7680      1-Elite-cute-kind-fuzzy-nosy-date        0.348761       0.303263   \n",
       "7681         1-Odd-keen-new-meek-green-crew        0.725440       0.150889   \n",
       "7682       1-Raspy-past-far-goofy-rare-make        0.276545       0.459063   \n",
       "\n",
       "      bartmnli_gloomy  bartmnli_angry  bartmnli_inferred_valence  \\\n",
       "0            0.159543        0.101142                   0.478629   \n",
       "1            0.025943        0.025980                   0.896153   \n",
       "2            0.320734        0.130775                   0.096984   \n",
       "3            0.217403        0.135639                   0.293916   \n",
       "4            0.024566        0.008247                   0.934374   \n",
       "...               ...             ...                        ...   \n",
       "7678         0.165321        0.121378                   0.426601   \n",
       "7679         0.596893        0.120259                  -0.434305   \n",
       "7680         0.238150        0.109826                   0.304048   \n",
       "7681         0.061685        0.061986                   0.752659   \n",
       "7682         0.200498        0.063895                   0.471216   \n",
       "\n",
       "      bartmnli_inferred_arousal  MeditationCount  \n",
       "0                      0.269529                0  \n",
       "1                      0.783093                0  \n",
       "2                     -0.326558                0  \n",
       "3                     -0.141188               17  \n",
       "4                     -0.244563                0  \n",
       "...                         ...              ...  \n",
       "7678                  -0.166733                0  \n",
       "7679                  -0.464341                0  \n",
       "7680                  -0.082826                0  \n",
       "7681                   0.574852                0  \n",
       "7682                  -0.319121                0  \n",
       "\n",
       "[7683 rows x 12 columns]"
      ]
     },
     "execution_count": 5,
     "metadata": {},
     "output_type": "execute_result"
    }
   ],
   "source": [
    "df"
   ]
  },
  {
   "cell_type": "code",
   "execution_count": 17,
   "metadata": {},
   "outputs": [
    {
     "name": "stdout",
     "output_type": "stream",
     "text": [
      "0\n",
      "23\n",
      "294\n"
     ]
    }
   ],
   "source": [
    "# Print range of vals in MeditationCount\n",
    "print(df['MeditationCount'].min())\n",
    "print(df['MeditationCount'].max())\n",
    "# Print number of reports with >0 meditation terms\n",
    "print(len(df[df['MeditationCount'] > 0]))\n"
   ]
  },
  {
   "cell_type": "code",
   "execution_count": 18,
   "metadata": {},
   "outputs": [],
   "source": [
    "# Print the value of column Report for rows where MeditationCount > 0\n",
    "for i in range(0, len(df)):\n",
    "    if df['MeditationCount'][i] > 0:\n",
    "        print()\n",
    "        print(df['MeditationCount'][i])\n",
    "        print(df['Report'][i])\n",
    "        print('')"
   ]
  },
  {
   "cell_type": "code",
   "execution_count": 6,
   "metadata": {},
   "outputs": [
    {
     "data": {
      "text/plain": [
       "<Axes: >"
      ]
     },
     "execution_count": 6,
     "metadata": {},
     "output_type": "execute_result"
    },
    {
     "data": {
      "image/png": "[encoded data removed]",
      "text/plain": [
       "<Figure size 640x480 with 1 Axes>"
      ]
     },
     "metadata": {},
     "output_type": "display_data"
    }
   ],
   "source": [
    "# Print histogram of MeditationCount \n",
    "df['MeditationCount'].hist(bins=50)"
   ]
  },
  {
   "cell_type": "code",
   "execution_count": 7,
   "metadata": {},
   "outputs": [],
   "source": [
    "# Create a column with 0 if no meditation terms, 1 if there are\n",
    "df['MeditationBinary'] = df['MeditationCount'].apply(lambda x: 1 if x > 0 else 0)"
   ]
  },
  {
   "cell_type": "code",
   "execution_count": 9,
   "metadata": {},
   "outputs": [
    {
     "name": "stdout",
     "output_type": "stream",
     "text": [
      "                                OLS Regression Results                               \n",
      "=====================================================================================\n",
      "Dep. Variable:     bartmnli_inferred_arousal   R-squared:                       0.005\n",
      "Model:                                   OLS   Adj. R-squared:                  0.005\n",
      "Method:                        Least Squares   F-statistic:                     40.27\n",
      "Date:                       Tue, 16 Apr 2024   Prob (F-statistic):           2.34e-10\n",
      "Time:                               08:27:56   Log-Likelihood:                -2781.1\n",
      "No. Observations:                       7683   AIC:                             5566.\n",
      "Df Residuals:                           7681   BIC:                             5580.\n",
      "Df Model:                                  1                                         \n",
      "Covariance Type:                   nonrobust                                         \n",
      "====================================================================================\n",
      "                       coef    std err          t      P>|t|      [0.025      0.975]\n",
      "------------------------------------------------------------------------------------\n",
      "Intercept           -0.0896      0.004    -22.156      0.000      -0.098      -0.082\n",
      "MeditationBinary    -0.1312      0.021     -6.346      0.000      -0.172      -0.091\n",
      "==============================================================================\n",
      "Omnibus:                      477.680   Durbin-Watson:                   1.876\n",
      "Prob(Omnibus):                  0.000   Jarque-Bera (JB):              571.968\n",
      "Skew:                           0.668   Prob(JB):                    6.29e-125\n",
      "Kurtosis:                       3.023   Cond. No.                         5.22\n",
      "==============================================================================\n",
      "\n",
      "Notes:\n",
      "[1] Standard Errors assume that the covariance matrix of the errors is correctly specified.\n"
     ]
    }
   ],
   "source": [
    "model = smf.ols(f\"bartmnli_inferred_arousal ~ MeditationBinary\", df)\n",
    "result = model.fit()\n",
    "print(result.summary())"
   ]
  },
  {
   "cell_type": "code",
   "execution_count": 31,
   "metadata": {},
   "outputs": [
    {
     "data": {
      "text/plain": [
       "<Axes: xlabel='MeditationBinary', ylabel='bartmnli_inferred_arousal'>"
      ]
     },
     "execution_count": 31,
     "metadata": {},
     "output_type": "execute_result"
    },
    {
     "data": {
      "image/png": "[encoded data removed]",
      "text/plain": [
       "<Figure size 640x480 with 1 Axes>"
      ]
     },
     "metadata": {},
     "output_type": "display_data"
    }
   ],
   "source": [
    "# Regplot \n",
    "import seaborn as sns\n",
    "sns.regplot(x='MeditationBinary', y='bartmnli_inferred_valence', data=df)\n",
    "sns.regplot(x='MeditationBinary', y='bartmnli_inferred_arousal', data=df)"
   ]
  },
  {
   "cell_type": "code",
   "execution_count": 13,
   "metadata": {},
   "outputs": [
    {
     "name": "stdout",
     "output_type": "stream",
     "text": [
      "0.103610805492392\n",
      "-0.02780900329022078\n",
      "-0.22074555597730539\n",
      "-0.08958480014882443\n"
     ]
    }
   ],
   "source": [
    "# Print mean score for valence for reports with meditation terms\n",
    "print(df[df['MeditationBinary'] == 1]['bartmnli_inferred_valence'].mean())\n",
    "print(df[df['MeditationBinary'] == 0]['bartmnli_inferred_valence'].mean())\n",
    "\n",
    "# Print mean score for valence for reports with meditation terms\n",
    "print(df[df['MeditationBinary'] == 1]['bartmnli_inferred_arousal'].mean())\n",
    "print(df[df['MeditationBinary'] == 0]['bartmnli_inferred_arousal'].mean())"
   ]
  },
  {
   "cell_type": "code",
   "execution_count": 15,
   "metadata": {},
   "outputs": [
    {
     "name": "stdout",
     "output_type": "stream",
     "text": [
      "                                OLS Regression Results                               \n",
      "=====================================================================================\n",
      "Dep. Variable:     bartmnli_inferred_valence   R-squared:                       0.004\n",
      "Model:                                   OLS   Adj. R-squared:                  0.004\n",
      "Method:                        Least Squares   F-statistic:                     28.98\n",
      "Date:                       Tue, 16 Apr 2024   Prob (F-statistic):           7.53e-08\n",
      "Time:                               08:34:13   Log-Likelihood:                -4059.8\n",
      "No. Observations:                       7683   AIC:                             8124.\n",
      "Df Residuals:                           7681   BIC:                             8138.\n",
      "Df Model:                                  1                                         \n",
      "Covariance Type:                   nonrobust                                         \n",
      "====================================================================================\n",
      "                       coef    std err          t      P>|t|      [0.025      0.975]\n",
      "------------------------------------------------------------------------------------\n",
      "const               -0.0278      0.005     -5.823      0.000      -0.037      -0.018\n",
      "MeditationBinary     0.1314      0.024      5.383      0.000       0.084       0.179\n",
      "==============================================================================\n",
      "Omnibus:                      115.470   Durbin-Watson:                   1.894\n",
      "Prob(Omnibus):                  0.000   Jarque-Bera (JB):               70.475\n",
      "Skew:                           0.067   Prob(JB):                     4.97e-16\n",
      "Kurtosis:                       2.551   Cond. No.                         5.22\n",
      "==============================================================================\n",
      "\n",
      "Notes:\n",
      "[1] Standard Errors assume that the covariance matrix of the errors is correctly specified.\n",
      "                                OLS Regression Results                               \n",
      "=====================================================================================\n",
      "Dep. Variable:     bartmnli_inferred_arousal   R-squared:                       0.005\n",
      "Model:                                   OLS   Adj. R-squared:                  0.005\n",
      "Method:                        Least Squares   F-statistic:                     40.27\n",
      "Date:                       Tue, 16 Apr 2024   Prob (F-statistic):           2.34e-10\n",
      "Time:                               08:34:13   Log-Likelihood:                -2781.1\n",
      "No. Observations:                       7683   AIC:                             5566.\n",
      "Df Residuals:                           7681   BIC:                             5580.\n",
      "Df Model:                                  1                                         \n",
      "Covariance Type:                   nonrobust                                         \n",
      "====================================================================================\n",
      "                       coef    std err          t      P>|t|      [0.025      0.975]\n",
      "------------------------------------------------------------------------------------\n",
      "const               -0.0896      0.004    -22.156      0.000      -0.098      -0.082\n",
      "MeditationBinary    -0.1312      0.021     -6.346      0.000      -0.172      -0.091\n",
      "==============================================================================\n",
      "Omnibus:                      477.680   Durbin-Watson:                   1.876\n",
      "Prob(Omnibus):                  0.000   Jarque-Bera (JB):              571.968\n",
      "Skew:                           0.668   Prob(JB):                    6.29e-125\n",
      "Kurtosis:                       3.023   Cond. No.                         5.22\n",
      "==============================================================================\n",
      "\n",
      "Notes:\n",
      "[1] Standard Errors assume that the covariance matrix of the errors is correctly specified.\n"
     ]
    }
   ],
   "source": [
    "import statsmodels.api as sm\n",
    "\n",
    "# Assuming 'meditation_count' is the count of meditation-related terms in each report\n",
    "X = df[['MeditationBinary']]  # Predictor\n",
    "X = sm.add_constant(X)  # Adds a constant term to the predictor\n",
    "\n",
    "# Valence model\n",
    "y_valence = df['bartmnli_inferred_valence']\n",
    "model_valence = sm.OLS(y_valence, X)\n",
    "results_valence = model_valence.fit()\n",
    "print(results_valence.summary())\n",
    "\n",
    "# Arousal model\n",
    "y_arousal = df['bartmnli_inferred_arousal']\n",
    "model_arousal = sm.OLS(y_arousal, X)\n",
    "results_arousal = model_arousal.fit()\n",
    "print(results_arousal.summary())"
   ]
  },
  {
   "cell_type": "code",
   "execution_count": 26,
   "metadata": {},
   "outputs": [
    {
     "name": "stdout",
     "output_type": "stream",
     "text": [
      "Optimization terminated successfully.\n",
      "         Current function value: 0.345564\n",
      "         Iterations 7\n",
      "                           Logit Regression Results                           \n",
      "==============================================================================\n",
      "Dep. Variable:                anxious   No. Observations:                 7683\n",
      "Model:                          Logit   Df Residuals:                     7681\n",
      "Method:                           MLE   Df Model:                            1\n",
      "Date:                Tue, 16 Apr 2024   Pseudo R-squ.:                0.004986\n",
      "Time:                        08:37:18   Log-Likelihood:                -2655.0\n",
      "converged:                       True   LL-Null:                       -2668.3\n",
      "Covariance Type:            nonrobust   LLR p-value:                 2.491e-07\n",
      "====================================================================================\n",
      "                       coef    std err          z      P>|z|      [0.025      0.975]\n",
      "------------------------------------------------------------------------------------\n",
      "const               -2.0550      0.037    -56.043      0.000      -2.127      -1.983\n",
      "MeditationBinary    -1.4003      0.341     -4.112      0.000      -2.068      -0.733\n",
      "====================================================================================\n"
     ]
    }
   ],
   "source": [
    "valence_threshold = 0\n",
    "arousal_threshold = 0\n",
    "\n",
    "# Define 'anxious' based on thresholds\n",
    "df['anxious'] = ((df['bartmnli_inferred_valence'] < valence_threshold) & (df['bartmnli_inferred_arousal'] > arousal_threshold)).astype(int)\n",
    "\n",
    "# Logistic regression\n",
    "X_log = df[['MeditationBinary']]  # Predictor\n",
    "X_log = sm.add_constant(X_log)  # Adds a constant term to the predictor\n",
    "y_log = df['anxious']\n",
    "\n",
    "logit_model = sm.Logit(y_log, X_log)\n",
    "logit_results = logit_model.fit()\n",
    "print(logit_results.summary())\n"
   ]
  },
  {
   "cell_type": "code",
   "execution_count": 27,
   "metadata": {},
   "outputs": [
    {
     "name": "stdout",
     "output_type": "stream",
     "text": [
      "Odds ratio for MeditationBinary: 0.24652299594817775\n"
     ]
    }
   ],
   "source": [
    "import numpy as np\n",
    "\n",
    "# Calculate the odds ratio for MeditationBinary\n",
    "odds_ratio = np.exp(-1.4003)\n",
    "print(\"Odds ratio for MeditationBinary:\", odds_ratio)\n"
   ]
  },
  {
   "cell_type": "code",
   "execution_count": null,
   "metadata": {},
   "outputs": [],
   "source": []
  }
 ],
 "metadata": {
  "kernelspec": {
   "display_name": "Python 3",
   "language": "python",
   "name": "python3"
  },
  "language_info": {
   "codemirror_mode": {
    "name": "ipython",
    "version": 3
   },
   "file_extension": ".py",
   "mimetype": "text/x-python",
   "name": "python",
   "nbconvert_exporter": "python",
   "pygments_lexer": "ipython3",
   "version": "3.8.10"
  },
  "orig_nbformat": 4,
  "vscode": {
   "interpreter": {
    "hash": "767d51c1340bd893661ea55ea3124f6de3c7a262a8b4abca0554b478b1e2ff90"
   }
  }
 },
 "nbformat": 4,
 "nbformat_minor": 2
}
